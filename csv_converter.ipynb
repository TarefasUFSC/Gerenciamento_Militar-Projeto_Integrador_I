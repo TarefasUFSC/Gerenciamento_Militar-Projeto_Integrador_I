{
 "cells": [
  {
   "cell_type": "code",
   "execution_count": 1,
   "metadata": {},
   "outputs": [],
   "source": [
    "import pandas as pd\n",
    "import numpy as np"
   ]
  },
  {
   "cell_type": "code",
   "execution_count": 2,
   "metadata": {},
   "outputs": [],
   "source": [
    "def read_xlsx_data(file_name):\n",
    "    data = pd.read_excel(file_name)\n",
    "    return data"
   ]
  },
  {
   "cell_type": "code",
   "execution_count": 26,
   "metadata": {},
   "outputs": [],
   "source": [
    "df_old = read_xlsx_data('banco_de_pessoal.xlsx')"
   ]
  },
  {
   "cell_type": "code",
   "execution_count": 24,
   "metadata": {},
   "outputs": [
    {
     "name": "stdout",
     "output_type": "stream",
     "text": [
      "matrícula\n",
      "nome\n",
      "sexo\n",
      "posto/graduação\n",
      "antiguidade\n",
      "lotação_região\n",
      "lotação_batalhão\n",
      "lotação_companhia\n",
      "lotação_pelotão\n",
      "lotação_grupo\n",
      "lotação_cidade\n",
      "data de ingresso\n",
      "tempo anterior_tipo\n",
      "tempo anterior_tempo em dias\n",
      "data de nascimento\n",
      "licenças especiais acumuladas\n",
      "comportamento\n",
      "formação\n",
      "cursos de formação\n",
      "cursos pm\n",
      "outros cursos civis\n",
      "idioma\n",
      "endereço\n",
      "férias\n",
      "afastamento_tipo\n",
      "afastamento_início\n",
      "afastamento_fim\n",
      "restrição_tipo\n",
      "restrição_fim\n"
     ]
    }
   ],
   "source": [
    "cols = []\n",
    "for col in df:\n",
    "    tp = str(col.split(\":\")[0]).lower()\n",
    "    sb_tp = str(df[col][0]).lower()\n",
    "    #print(tp, sb_tp)\n",
    "    name = \"\"\n",
    "    if(tp == 'unnamed'):\n",
    "        name = cols[-1].split('_')[0]\n",
    "    else:\n",
    "        name = tp\n",
    "    if(sb_tp != 'nan' and sb_tp != 'nat'):\n",
    "        name = f'{name}_{sb_tp}'\n",
    "    cols.append(name)\n",
    "    print(name)\n"
   ]
  },
  {
   "cell_type": "code",
   "execution_count": 32,
   "metadata": {},
   "outputs": [],
   "source": [
    "df_new = pd.DataFrame(columns=cols)"
   ]
  },
  {
   "cell_type": "code",
   "execution_count": 34,
   "metadata": {},
   "outputs": [],
   "source": [
    "for i,col in enumerate(df_old):\n",
    "    df_new[cols[i]] = df_old[col][1:-1]"
   ]
  },
  {
   "cell_type": "code",
   "execution_count": 36,
   "metadata": {},
   "outputs": [],
   "source": [
    "df_new.to_csv('banco_de_pessoal.csv', index=False)"
   ]
  }
 ],
 "metadata": {
  "kernelspec": {
   "display_name": "Python 3.9.10 ('Gerenciamento_Militar-Projeto_Integrador_I-3cdF9lFc')",
   "language": "python",
   "name": "python3"
  },
  "language_info": {
   "codemirror_mode": {
    "name": "ipython",
    "version": 3
   },
   "file_extension": ".py",
   "mimetype": "text/x-python",
   "name": "python",
   "nbconvert_exporter": "python",
   "pygments_lexer": "ipython3",
   "version": "3.9.10"
  },
  "orig_nbformat": 4,
  "vscode": {
   "interpreter": {
    "hash": "ad5db8e83860d820bc4fa3607b9c48afb4864f56a7d5befe040584c06672a7b5"
   }
  }
 },
 "nbformat": 4,
 "nbformat_minor": 2
}
